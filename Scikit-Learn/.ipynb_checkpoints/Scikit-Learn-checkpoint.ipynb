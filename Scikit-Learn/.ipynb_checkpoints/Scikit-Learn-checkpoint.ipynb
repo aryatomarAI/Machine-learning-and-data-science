{
 "cells": [
  {
   "cell_type": "markdown",
   "metadata": {},
   "source": [
    "## Machine Learning Models"
   ]
  },
  {
   "cell_type": "markdown",
   "metadata": {},
   "source": [
    "What is scikit Learn?\n",
    "* Scikit-Learn is a python machine learning library which means if we have data Scikit can help us build machine learning model to make prediction or learn patterns within that data and then made predictions"
   ]
  },
  {
   "cell_type": "markdown",
   "metadata": {},
   "source": [
    "Why SciKit-Learn?\n",
    "* Built on Numpy and Matplotlib\n",
    "* Has many in-built machine learning models\n",
    "* Methods to evaluate your machine learning models\n",
    "* Very well-designed API"
   ]
  },
  {
   "cell_type": "code",
   "execution_count": null,
   "metadata": {},
   "outputs": [],
   "source": []
  }
 ],
 "metadata": {
  "kernelspec": {
   "display_name": "Python 3",
   "language": "python",
   "name": "python3"
  },
  "language_info": {
   "codemirror_mode": {
    "name": "ipython",
    "version": 3
   },
   "file_extension": ".py",
   "mimetype": "text/x-python",
   "name": "python",
   "nbconvert_exporter": "python",
   "pygments_lexer": "ipython3",
   "version": "3.7.3"
  }
 },
 "nbformat": 4,
 "nbformat_minor": 2
}
