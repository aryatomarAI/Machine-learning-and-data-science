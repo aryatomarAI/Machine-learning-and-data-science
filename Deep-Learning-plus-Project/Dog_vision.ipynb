{
  "nbformat": 4,
  "nbformat_minor": 0,
  "metadata": {
    "kernelspec": {
      "display_name": "Python 3",
      "language": "python",
      "name": "python3"
    },
    "language_info": {
      "codemirror_mode": {
        "name": "ipython",
        "version": 3
      },
      "file_extension": ".py",
      "mimetype": "text/x-python",
      "name": "python",
      "nbconvert_exporter": "python",
      "pygments_lexer": "ipython3",
      "version": "3.7.9"
    },
    "colab": {
      "name": "Dog-vision.ipynb",
      "provenance": [],
      "toc_visible": true,
      "include_colab_link": true
    },
    "accelerator": "GPU"
  },
  "cells": [
    {
      "cell_type": "markdown",
      "metadata": {
        "id": "view-in-github",
        "colab_type": "text"
      },
      "source": [
        "<a href=\"https://colab.research.google.com/github/aryatomarAI/Machine-learning-and-data-science/blob/main/Deep-Learning-plus-Project/Dog_vision.ipynb\" target=\"_parent\"><img src=\"https://colab.research.google.com/assets/colab-badge.svg\" alt=\"Open In Colab\"/></a>"
      ]
    },
    {
      "cell_type": "code",
      "metadata": {
        "id": "Nhp7MyInI6ym"
      },
      "source": [
        ""
      ],
      "execution_count": null,
      "outputs": []
    },
    {
      "cell_type": "markdown",
      "metadata": {
        "id": "RrtdG4z_Bg9R"
      },
      "source": [
        "# 🐕‍🦺 Using Tensorflow 2.0 and Transfer learning to classify different dog breeds\n",
        "This notebook builds an end-to-end multi-class image classifier using Tensorflow and Tensorflow Hub\n",
        "\n",
        "We're using Kaggle Dog Identification competition\n",
        "## 1. Problem\n",
        "   Identifying the breed of a dog given an image of a dog.\n",
        "## 2. Data\n",
        "   The data we're using is from [Kaggle's dog breed identification competition](https://www.kaggle.com/c/dog-breed-identification/data)\n",
        "## 3. Evaluation\n",
        "   The evaluation is a file with prediction probabilities for each dog breed of each test image.\n",
        "\n",
        "   [Evaluated on Multi Class Log Loss between the predicted probability and the observed target](https://www.kaggle.com/c/dog-breed-identification/overview/evaluation)\n",
        "\n",
        "## 4. Features\n",
        "\n",
        "Some Information about the data:\n",
        "\n",
        "We're dealing with images (Unstructured data).\n",
        "It consists of a collection of 10,000+ labelled images of 120 different dog breeds.\n",
        "\n",
        "This kind of problem is called multi-class image classification. It's multi-class because we're trying to classify mutliple different breeds of dog. If we were only trying to classify dogs versus cats, it would be called binary classification (one thing versus another).\n",
        "\n",
        "Since the most important step in a deep learng problem is getting the data ready (turning it into numbers), that's what we're going to start with.\n",
        "\n",
        "We're going to go through the following TensorFlow/Deep Learning workflow:\n",
        "1. Get data ready (download from Kaggle, store, import).\n",
        "2. Prepare the data (preprocessing, the 3 sets, X & y).\n",
        "3. Choose and fit/train a model ([TensorFlow Hub](https://www.tensorflow.org/hub), `tf.keras.applications`, [TensorBoard](https://www.tensorflow.org/tensorboard), [EarlyStopping](https://www.tensorflow.org/api_docs/python/tf/keras/callbacks/EarlyStopping)).\n",
        "4. Evaluating a model (making predictions, comparing them with the ground truth labels).\n",
        "5. Improve the model through experimentation (start with 1000 images, make sure it works, increase the number of images).\n",
        "6. Save, sharing and reloading your model (once you're happy with the results).\n",
        "\n",
        "For preprocessing our data, we're going to use TensorFlow 2.x. The whole premise here is to get our data into Tensors (arrays of numbers which can be run on GPUs) and then allow a machine learning model to find patterns between them.\n",
        "\n",
        "For our machine learning model, we're going to be using a pretrained deep learning model from TensorFlow Hub.\n",
        "\n",
        "\n"
      ]
    },
    {
      "cell_type": "markdown",
      "metadata": {
        "id": "OCUylKUIHamk"
      },
      "source": [
        "## Get our Workspace ready"
      ]
    },
    {
      "cell_type": "code",
      "metadata": {
        "id": "KNsQiuayJbxa",
        "colab": {
          "base_uri": "https://localhost:8080/"
        },
        "outputId": "92a64e96-1fc1-4b29-9cef-4c1ae4b48496"
      },
      "source": [
        "# Import Tensorflow into colab\n",
        "import tensorflow as tf\n",
        "print(\"We are using Tensor flow version\",tf.__version__)"
      ],
      "execution_count": 2,
      "outputs": [
        {
          "output_type": "stream",
          "text": [
            "We are using Tensor flow version 2.4.1\n"
          ],
          "name": "stdout"
        }
      ]
    },
    {
      "cell_type": "code",
      "metadata": {
        "id": "hh7VPGQ3q6sT",
        "colab": {
          "base_uri": "https://localhost:8080/"
        },
        "outputId": "6ecda98c-a490-4dea-f418-18898c53ff22"
      },
      "source": [
        "# Importing Tensflow_hub and checking for GPU \n",
        "import tensorflow_hub as hub\n",
        "print(\"Tensorflow hub version:\",hub.__version__)\n",
        "\n",
        "print(\"GPU\",\"available\" if tf.config.list_physical_devices(\"GPU\") else \"not available\")"
      ],
      "execution_count": 3,
      "outputs": [
        {
          "output_type": "stream",
          "text": [
            "Tensorflow hub version: 0.12.0\n",
            "GPU available\n"
          ],
          "name": "stdout"
        }
      ]
    },
    {
      "cell_type": "code",
      "metadata": {
        "id": "mdP4gEV9vCCO"
      },
      "source": [
        "\n"
      ],
      "execution_count": 4,
      "outputs": []
    },
    {
      "cell_type": "code",
      "metadata": {
        "id": "B-sjiSvC5cvx"
      },
      "source": [
        ""
      ],
      "execution_count": null,
      "outputs": []
    }
  ]
}