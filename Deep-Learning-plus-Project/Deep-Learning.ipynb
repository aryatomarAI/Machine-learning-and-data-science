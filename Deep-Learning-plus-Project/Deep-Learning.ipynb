{
 "cells": [
  {
   "cell_type": "markdown",
   "metadata": {},
   "source": [
    "## Neural Networks: Deep Learning, Transfer Learning and Tensorflow 2\n",
    "\n",
    "What is Tensorflow?\n",
    "Tensorflow is a deeplearning library or numerical computing library.\n",
    "\n",
    "Why Tensorflow?\n",
    "* Write fast machine learning code in python ( able to run on a GPU)\n",
    "* Able to access many prebuilt deep learning models.\n",
    "* Whole stack: preprocess, model, deploy.\n",
    "* Orignally designed and used in-house by Google(now open source).\n",
    "\n",
    "What is deep learning?\n",
    "Deep learning is machine learning technique that teaches computers to do what comes naturally to humans: learn by example. Deep learning is a key technology behind driverless cars, enabling them to recognize a stopsign, or to distinguish a pedestrian from a lamp post. It is the key to voice control in consumer devices like phones, tables, TVs and hands-free, speakers.\n",
    "    \n",
    "In deep learning, a computer model learns to perform classification tasks directly from images, text, or sound. Deep learning models can achieve state-of-art accuracy, sometimes, exceeding human-level performance. Models are trained by using a large set of labeled data and neural network architectures that contain many layers.\n",
    "\n",
    "Many deep learning models use neural network architectures, which is why deep learning model sare often referred to as deep neural networks"
   ]
  },
  {
   "cell_type": "markdown",
   "metadata": {},
   "source": [
    "**What is transfer learning?**\n",
    "\n",
    "It is a popular approach in deep learning where pre-trained models are used as the starting point on computer vision and natural language processing tasks given the vast compute and time resources required to develop neural network models on these problems and from the huge jumps in skill that they provide on related problems.\n",
    "\n",
    "Why use transfer learning?\n",
    "* Take what you know in one domain and apply it to another.\n",
    "* Starting from scratch can be expensive and time consuming.\n",
    "* So why not take advantage of what's already out there.\n",
    "\n",
    "**Tensorflow workframe**\n",
    "\n",
    "1. Get the data ready(turn into tensors).\n",
    "2. Pick a model(to suit your problem).\n",
    "3. Fit the model to data and make prediction.\n",
    "4. Evaluate the model.\n",
    "5. Improve the model through experimentation.\n",
    "6. Save and reload your trained model.\n",
    "\n"
   ]
  },
  {
   "cell_type": "code",
   "execution_count": null,
   "metadata": {},
   "outputs": [],
   "source": []
  }
 ],
 "metadata": {
  "kernelspec": {
   "display_name": "Python 3",
   "language": "python",
   "name": "python3"
  },
  "language_info": {
   "codemirror_mode": {
    "name": "ipython",
    "version": 3
   },
   "file_extension": ".py",
   "mimetype": "text/x-python",
   "name": "python",
   "nbconvert_exporter": "python",
   "pygments_lexer": "ipython3",
   "version": "3.7.9"
  }
 },
 "nbformat": 4,
 "nbformat_minor": 4
}
